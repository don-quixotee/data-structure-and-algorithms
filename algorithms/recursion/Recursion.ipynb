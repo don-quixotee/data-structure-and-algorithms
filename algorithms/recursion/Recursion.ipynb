{
 "cells": [
  {
   "cell_type": "markdown",
   "metadata": {},
   "source": [
    "# factorial problem "
   ]
  },
  {
   "cell_type": "markdown",
   "metadata": {},
   "source": [
    "# for the factorial of 5 => Factorial(n) =  n * Factorial(n-1)\n",
    "\n",
    "\n",
    "    Factorial(5) =>  fact =  5 * Factorial(4)                     => return (5 * 24)\n",
    "\n",
    "        Factorial(4) =>  fact =  4 * Factorial(3)                 => return (4 * 6)\n",
    "\n",
    "            Factorial(3) =>  fact = 3 * Factorial(2)              => return (3 *2)\n",
    "\n",
    "                Factorial(2)  =>  fact =  2 * Factorial(1)        => return (2* 1)\n",
    "\n",
    "                    Factorial(1)  =>  fact =  1 * Factorial(0)    =>  return (1*1)\n",
    "\n",
    "                        Factorial(0) =  if n == 0 return 1        =>  return 1  \n",
    "\n",
    "\n",
    "\n"
   ]
  },
  {
   "cell_type": "code",
   "execution_count": 2,
   "metadata": {},
   "outputs": [
    {
     "name": "stdout",
     "output_type": "stream",
     "text": [
      "enter yout number :  5\n",
      "120\n"
     ]
    }
   ],
   "source": [
    "def factorial(n):\n",
    "    if n == 0:\n",
    "        return 1\n",
    "    else:\n",
    "        return n * factorial(n-1)\n",
    "num = int(input(\"enter yout number :  \"))\n",
    "print(factorial(num))"
   ]
  }
 ],
 "metadata": {
  "kernelspec": {
   "display_name": "Python 3",
   "language": "python",
   "name": "python3"
  },
  "language_info": {
   "codemirror_mode": {
    "name": "ipython",
    "version": 3
   },
   "file_extension": ".py",
   "mimetype": "text/x-python",
   "name": "python",
   "nbconvert_exporter": "python",
   "pygments_lexer": "ipython3",
   "version": "3.7.6"
  }
 },
 "nbformat": 4,
 "nbformat_minor": 4
}
